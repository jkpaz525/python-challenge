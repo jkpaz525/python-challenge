{
 "cells": [
  {
   "cell_type": "code",
   "execution_count": 67,
   "metadata": {},
   "outputs": [],
   "source": [
    "import os\n",
    "import csv\n",
    "from pathlib import Path\n",
    "import re\n",
    "#from collections import Counter\n",
    "\n",
    "filename = Path(\"raw_data/paragraph_1.txt\")\n",
    "\n",
    "#re.split(\"(?&lt;=[.!?]) +\", paragraph)"
   ]
  },
  {
   "cell_type": "code",
   "execution_count": 68,
   "metadata": {},
   "outputs": [
    {
     "name": "stdout",
     "output_type": "stream",
     "text": [
      "Approximate word count:\n",
      "130\n"
     ]
    }
   ],
   "source": [
    "num_words = 0\n",
    "\n",
    "with open (filename, 'r') as paragraph:\n",
    "    for line in paragraph:\n",
    "        words = line.split()\n",
    "        num_words += len(words)\n",
    "print(\"Approximate word count:\")\n",
    "print(num_words)"
   ]
  },
  {
   "cell_type": "code",
   "execution_count": 69,
   "metadata": {},
   "outputs": [
    {
     "name": "stdout",
     "output_type": "stream",
     "text": [
      "Approximate sentence count:\n",
      "6\n"
     ]
    }
   ],
   "source": [
    "num_sentences = 0\n",
    "\n",
    "with open (filename, 'r') as paragraph:\n",
    "    for line in paragraph:\n",
    "        words = line.split('.')\n",
    "        num_sentences += len(words)\n",
    "print(\"Approximate sentence count:\")\n",
    "print(num_sentences)"
   ]
  },
  {
   "cell_type": "code",
   "execution_count": 70,
   "metadata": {},
   "outputs": [
    {
     "name": "stdout",
     "output_type": "stream",
     "text": [
      "Average letter count:\n",
      "7.4\n"
     ]
    }
   ],
   "source": [
    "num_letters = 0\n",
    "\n",
    "with open (filename, 'r') as paragraph:\n",
    "    num_letters = (num_letters + len(line))/num_words\n",
    "print(\"Average letter count:\")\n",
    "print(num_letters)"
   ]
  },
  {
   "cell_type": "code",
   "execution_count": 71,
   "metadata": {},
   "outputs": [
    {
     "name": "stdout",
     "output_type": "stream",
     "text": [
      "Average sentence length:\n",
      "21.666666666666668\n"
     ]
    }
   ],
   "source": [
    "avg_sent = num_words/num_sentences\n",
    "print(\"Average sentence length:\")\n",
    "print(avg_sent)"
   ]
  }
 ],
 "metadata": {
  "kernelspec": {
   "display_name": "Python 3",
   "language": "python",
   "name": "python3"
  },
  "language_info": {
   "codemirror_mode": {
    "name": "ipython",
    "version": 3
   },
   "file_extension": ".py",
   "mimetype": "text/x-python",
   "name": "python",
   "nbconvert_exporter": "python",
   "pygments_lexer": "ipython3",
   "version": "3.6.5"
  }
 },
 "nbformat": 4,
 "nbformat_minor": 2
}
